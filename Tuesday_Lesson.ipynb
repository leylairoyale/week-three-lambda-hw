{
 "cells": [
  {
   "cell_type": "markdown",
   "metadata": {},
   "source": [
    "# Map, Filter, Reduce, Lambda & Recursion"
   ]
  },
  {
   "cell_type": "markdown",
   "metadata": {},
   "source": [
    "## Tasks Today:\n",
    "\n",
    "1) <b>Lambda Functions</b> <br>\n",
    " &nbsp;&nbsp;&nbsp;&nbsp; a) Syntax <br>\n",
    " &nbsp;&nbsp;&nbsp;&nbsp; b) Saving to a Variable <br>\n",
    " &nbsp;&nbsp;&nbsp;&nbsp; c) Multiple Inputs <br>\n",
    " &nbsp;&nbsp;&nbsp;&nbsp; d) Passing a Lambda into a Function <br>\n",
    " &nbsp;&nbsp;&nbsp;&nbsp; e) Returning a Lambda from a Function <br>\n",
    " &nbsp;&nbsp;&nbsp;&nbsp; f) In-Class Exercise #1 <br>\n",
    "2) <b>Map</b> <br>\n",
    " &nbsp;&nbsp;&nbsp;&nbsp; a) Syntax <br>\n",
    " &nbsp;&nbsp;&nbsp;&nbsp; b) Using Lambda's with Map <br>\n",
    " &nbsp;&nbsp;&nbsp;&nbsp; c) In-Class Exercise #2 <br>\n",
    "3) <b>Filter</b> <br>\n",
    " &nbsp;&nbsp;&nbsp;&nbsp; a) Syntax <br>\n",
    " &nbsp;&nbsp;&nbsp;&nbsp; b) Using Lambda's with Filter <br>\n",
    " &nbsp;&nbsp;&nbsp;&nbsp; c) In-Class Exercise #3 <br>\n",
    "4) <b>Reduce</b> <br>\n",
    " &nbsp;&nbsp;&nbsp;&nbsp; a) Syntax <br>\n",
    " &nbsp;&nbsp;&nbsp;&nbsp; b) Using Lambda's with Reduce <br>\n",
    " &nbsp;&nbsp;&nbsp;&nbsp; c) In-Class Exercise #4 <br>\n",
    "5) <b>Recursion</b> <br>\n",
    " &nbsp;&nbsp;&nbsp;&nbsp; a) Implementing a Base <br>\n",
    " &nbsp;&nbsp;&nbsp;&nbsp; b) Writing a Factorial Function <br>\n",
    " &nbsp;&nbsp;&nbsp;&nbsp; c) In-Class Exercise #5 <br>\n",
    "6) <b>Generators & Iterators</b> <br>\n",
    " &nbsp;&nbsp;&nbsp;&nbsp; a) Yield Keyword <br>\n",
    " &nbsp;&nbsp;&nbsp;&nbsp; b) Inifinite Generator <br>\n",
    " &nbsp;&nbsp;&nbsp;&nbsp; c) In-Class Exercise #6 <br>\n",
    "7) <b>Exercises</b> <br>\n",
    " &nbsp;&nbsp;&nbsp;&nbsp; a) Exercise #1 - Filtering Empty Strings <br>\n",
    " &nbsp;&nbsp;&nbsp;&nbsp; b) Exercise #2 - Sorting with Last Name <br>\n",
    " &nbsp;&nbsp;&nbsp;&nbsp; c) Exercise #3 - Conversion to Farhenheit <br>\n",
    " &nbsp;&nbsp;&nbsp;&nbsp; d) Exercise #4 - Fibonacci Sequence <br>"
   ]
  },
  {
   "cell_type": "markdown",
   "metadata": {},
   "source": [
    "## Lambda Functions <br>\n",
    "<p>Lambda functions... or \"Anonymous Functions\" are referring to inline functions with no name. The keyword lambda denotes the no name function, and executes within a single line. Without saving it to a variable; however, it is not able to be used, unless passed in either as a paramater or within list comprehension.<br>Written as \"(keyword lambda) (one or more inputs) (colon) (function to be executed)\"</p>"
   ]
  },
  {
   "cell_type": "markdown",
   "metadata": {},
   "source": [
    "#### Syntax"
   ]
  },
  {
   "cell_type": "code",
   "execution_count": 3,
   "metadata": {},
   "outputs": [
    {
     "data": {
      "text/plain": [
       "8"
      ]
     },
     "execution_count": 3,
     "metadata": {},
     "output_type": "execute_result"
    }
   ],
   "source": [
    "# lambda x: x + 2\n",
    "# (lambda x: x + 2)(4)\n",
    "\n",
    "#a regular ol' function:\n",
    "def addTwo(x):\n",
    "    print(x + 2)\n",
    "#with lambda, you do the same thing but without the add two.\n",
    "\n",
    "#Presentation Code\n",
    "(lambda x : x + 2)(6)\n",
    "#the parens make this a callable object when the program runs. you have\n",
    "#to have the ()."
   ]
  },
  {
   "cell_type": "markdown",
   "metadata": {},
   "source": [
    "#### Saving to a Variable"
   ]
  },
  {
   "cell_type": "code",
   "execution_count": 5,
   "metadata": {},
   "outputs": [
    {
     "name": "stdout",
     "output_type": "stream",
     "text": [
      "1.0\n"
     ]
    }
   ],
   "source": [
    "#Presentation Code\n",
    "f = (lambda x, y: (x+5)/y)\n",
    "print(f(3, 8))"
   ]
  },
  {
   "cell_type": "markdown",
   "metadata": {},
   "source": [
    "#### Multiple Inputs"
   ]
  },
  {
   "cell_type": "code",
   "execution_count": null,
   "metadata": {},
   "outputs": [],
   "source": [
    "# lambda x, y: x + y\n",
    "\n",
    "# (lambda x, y: x + y)(3, 5)\n",
    "\n",
    "#Presentation Code"
   ]
  },
  {
   "cell_type": "markdown",
   "metadata": {},
   "source": [
    "#### Passing a Lambda into a Function"
   ]
  },
  {
   "cell_type": "code",
   "execution_count": 7,
   "metadata": {},
   "outputs": [
    {
     "data": {
      "text/plain": [
       "16"
      ]
     },
     "execution_count": 7,
     "metadata": {},
     "output_type": "execute_result"
    }
   ],
   "source": [
    "# my_func(f, num)\n",
    "\n",
    "# accepting a single function and returning the result of f(num)\n",
    "\n",
    "#Presentation Code\n",
    "\n",
    "def multiply(f, num):\n",
    "    \"\"\"our paramenter list will use a lambda function and a number\"\"\"\n",
    "    return f(num)\n",
    "\n",
    "multiply(lambda x: x * x, 4)\n",
    "#multiply (lambda x: num * num, 4) with 4 being the num passed in. \n",
    "\n",
    "# accepting multiple functions, and returning the result of a function within a function\n",
    "# functions inside execute first, works it's way out\n",
    "# other_func(f, lamb, num)\n",
    "\n",
    "#Presentation Code"
   ]
  },
  {
   "cell_type": "markdown",
   "metadata": {},
   "source": [
    "#### Returning a Lambda from a Function"
   ]
  },
  {
   "cell_type": "code",
   "execution_count": 15,
   "metadata": {},
   "outputs": [
    {
     "name": "stdout",
     "output_type": "stream",
     "text": [
      "8\n",
      "<function returnLam at 0x000002D111913400>\n",
      "this oughta work 20\n"
     ]
    }
   ],
   "source": [
    "# return lambda x: x + a + b + c\n",
    "\n",
    "#Presentation Code\n",
    "def returnFunc():\n",
    "    def multiply(num):\n",
    "        return num + 2\n",
    "    return multiply\n",
    "\n",
    "f = returnFunc()\n",
    "print(f(4))\n",
    "\n",
    "\n",
    "#Presentation Code\n",
    "def returnLam(b, c):\n",
    "    return lambda x, a: x + a + b + c\n",
    "\n",
    "\n",
    "# calling without parens will not run code inside, so return won't be run\n",
    "#Presentation Code\n",
    "r = returnLam\n",
    "print(r)\n",
    "\n",
    "# to return function must call outer function with parens\n",
    "#Presentation Code\n",
    "t = returnLam(4, 5)\n",
    "print(\"this oughta work\",t(1, 10))"
   ]
  },
  {
   "cell_type": "markdown",
   "metadata": {},
   "source": [
    "#### If Statements within Lambdas"
   ]
  },
  {
   "cell_type": "code",
   "execution_count": 17,
   "metadata": {},
   "outputs": [
    {
     "name": "stdout",
     "output_type": "stream",
     "text": [
      "26\n"
     ]
    }
   ],
   "source": [
    "# lambda x: True if (condition) else False\n",
    "\n",
    "#Presentation Code\n",
    "f = lambda num: num * 2 if num > 10 else num + 2\n",
    "print(f(13))"
   ]
  },
  {
   "cell_type": "markdown",
   "metadata": {},
   "source": [
    "#### In-Class Exercise #1 <br>\n",
    "<p>Write an anonymous function that cubes the arguments passed in and assign the anonymous function to a variable 'f'.</p>"
   ]
  },
  {
   "cell_type": "code",
   "execution_count": 19,
   "metadata": {},
   "outputs": [
    {
     "name": "stdout",
     "output_type": "stream",
     "text": [
      "4\n"
     ]
    }
   ],
   "source": [
    "f = lambda num: num ** num\n",
    "print(f(2))"
   ]
  },
  {
   "cell_type": "markdown",
   "metadata": {},
   "source": [
    "## Map <br>\n",
    "<p>The map function allows you to iterate over an entire list while running a function on each item of the list. This is why the map function works well with lambda's, because it simplifies things and you write less lines of code.<br>The syntax for a map function is \"map(function to be used, list to be used)\"<br>However, you must be careful, as the map function returns a map object, not a list. To turn it into a list we use the list() type conversion.</p>"
   ]
  },
  {
   "cell_type": "markdown",
   "metadata": {},
   "source": [
    "#### Syntax"
   ]
  },
  {
   "cell_type": "code",
   "execution_count": 20,
   "metadata": {},
   "outputs": [
    {
     "name": "stdout",
     "output_type": "stream",
     "text": [
      "[16, 64, 15, 16, 23, 42]\n"
     ]
    }
   ],
   "source": [
    "# map(func, list)\n",
    "# using a pre-defined function\n",
    "def squared(num):\n",
    "    if num < 10:\n",
    "        return num **2\n",
    "    else:\n",
    "        return num\n",
    "numbers = [4, 8, 15, 16, 23, 42]\n",
    "\n",
    "squared_nums = list(map(squared, numbers))\n",
    "print(squared_nums)\n",
    "\n",
    "#Presentation Code"
   ]
  },
  {
   "cell_type": "markdown",
   "metadata": {},
   "source": [
    "#### Using Lambda's with Map"
   ]
  },
  {
   "cell_type": "code",
   "execution_count": 24,
   "metadata": {},
   "outputs": [
    {
     "name": "stdout",
     "output_type": "stream",
     "text": [
      "[4, 27, 3125, 46656, 387420489, 3245, 13, 452]\n"
     ]
    }
   ],
   "source": [
    "# map(lambda x: x + 2, list)\n",
    "# using lambdas in line\n",
    "# list(map(lambda x: x * 2, nums))\n",
    "\n",
    "#Presentation Code\n",
    "\n",
    "square = list(map(lambda x: x**x if x < 10 else x, [2,3,5,6,9,3245,13,452]))\n",
    "\n",
    "print(square)\n"
   ]
  },
  {
   "cell_type": "markdown",
   "metadata": {},
   "source": [
    "#### In-Class Exercise #2 <br>\n",
    "<p>Use the map function to double each number and minus it by one in the list by using a lambda function</p>"
   ]
  },
  {
   "cell_type": "code",
   "execution_count": 29,
   "metadata": {},
   "outputs": [
    {
     "name": "stdout",
     "output_type": "stream",
     "text": [
      "[7, 3, 11, 15]\n"
     ]
    }
   ],
   "source": [
    "# result should look like [7, 3, 11, 15]\n",
    "\n",
    "mooom = [4,2,6,8]\n",
    "answer = list(map(lambda x: x * 2 - 1, mooom))\n",
    "print(answer)\n"
   ]
  },
  {
   "cell_type": "markdown",
   "metadata": {},
   "source": [
    "## Filter() <br>\n",
    "<p>Filter's are similar to the map function, where you're able to pass a function argument and a list argument and filter out something from the list based on the conditions passed. Similar to the map function, it returns a filter object, so you need to type convert it to a list()</p>"
   ]
  },
  {
   "cell_type": "markdown",
   "metadata": {},
   "source": [
    "#### Syntax"
   ]
  },
  {
   "cell_type": "code",
   "execution_count": 32,
   "metadata": {
    "scrolled": true
   },
   "outputs": [
    {
     "name": "stdout",
     "output_type": "stream",
     "text": [
      "['Alouette', 'Amberella']\n"
     ]
    }
   ],
   "source": [
    "# generally map and filter are used on lists; however, they can also be used on anything that is iterable\n",
    "# such as tuples, sets, frozensets\n",
    "\n",
    "# filter(func, list)\n",
    "\n",
    "#Presentation Code\n",
    "names = [\"Jorge\", \"Enrique\", \"Alouette\", \"Amberella\"]\n",
    "\n",
    "# filter doesn't alter original list, it returns a filter object, you need to convert it yourself to a list\n",
    "# write a functino to check if name begins with 'A'\n",
    "\n",
    "def anames(name):\n",
    "    if name[0].lower() == \"a\":\n",
    "        return True\n",
    "    else:\n",
    "        return False\n",
    "\n",
    "#Presentation Code\n",
    "new_names = list(filter(anames, names))\n",
    "print(new_names)"
   ]
  },
  {
   "cell_type": "markdown",
   "metadata": {},
   "source": [
    "#### Using Lambda's with Filter()"
   ]
  },
  {
   "cell_type": "code",
   "execution_count": 35,
   "metadata": {},
   "outputs": [
    {
     "name": "stdout",
     "output_type": "stream",
     "text": [
      "['Alouette', 'Amberella']\n"
     ]
    }
   ],
   "source": [
    "# filter(lambda, list)\n",
    "\n",
    "# list(filter(lambda name: True if len(name) >= 4 else False, names))\n",
    "\n",
    "#Presentation Code\n",
    "new_names = list(filter(lambda name: True if name[0].lower() == \"a\" else False, names))\n",
    "print(new_names)"
   ]
  },
  {
   "cell_type": "markdown",
   "metadata": {},
   "source": [
    "#### In-Class Exercise #3 <br>\n",
    "<p>Filter out all the numbers that are below the mean of the list.<br><b>Hint: Import the 'statistics' module</b></p>"
   ]
  },
  {
   "cell_type": "code",
   "execution_count": 51,
   "metadata": {},
   "outputs": [
    {
     "name": "stdout",
     "output_type": "stream",
     "text": [
      "[2, 4.2, 1.6, 4.4]\n",
      "None\n",
      "[2, 4.2, 1.6, 4.4]\n"
     ]
    }
   ],
   "source": [
    "#Presentation Code\n",
    "# output should be [7, 9, 4.9]\n",
    "from statistics import mean\n",
    "\n",
    "nums = [2,7,4.2,1.6,9,4.4,4.9]\n",
    "\n",
    "#so this is the lengthier way)\n",
    "def findit(nums):\n",
    "    listy = []\n",
    "    for num in nums:\n",
    "        if num < mean(nums):\n",
    "            listy.append(num)\n",
    "        else:\n",
    "            pass\n",
    "    print(listy)\n",
    "print(findit(nums))\n",
    "\n",
    "#this is the less lengthy way.\n",
    "answer = list(filter(lambda num: True if (num < mean(nums)) else False, nums))\n",
    "\n",
    "print(answer)\n",
    "\n",
    "#Presentation Code\n"
   ]
  },
  {
   "cell_type": "markdown",
   "metadata": {},
   "source": [
    "## Reduce() <br>\n",
    "<p>Be very careful when using this function, as of Python 3 it's been moved to the 'functools' library and no longer is a built-in function.<br>The creator of Python himself, says to just use a for loop instead.</p>"
   ]
  },
  {
   "cell_type": "markdown",
   "metadata": {},
   "source": [
    "#### Syntax"
   ]
  },
  {
   "cell_type": "code",
   "execution_count": 56,
   "metadata": {},
   "outputs": [
    {
     "name": "stdout",
     "output_type": "stream",
     "text": [
      "-13\n",
      "15\n"
     ]
    }
   ],
   "source": [
    "from functools import reduce\n",
    "# reduce(func, list)\n",
    "\n",
    "#Presentation Code\n",
    "\n",
    "# use for loop below instead to calculate sum of list, rather than reduce which may cause errors\n",
    "# reduce functions passed in must accept two parameters\n",
    "\n",
    "liszt = [1, 2, 3, 4, 5]\n",
    "def subtractNums(num1, num2):\n",
    "    return num1 - num2\n",
    "\n",
    "result = reduce(subtractNums, liszt)\n",
    "\n",
    "print(result)\n",
    "\n",
    "#so this takes the first number and subracts it by the second; reduce just keeps the chain going, so 1 -2 -3 -4 etc. \n",
    "\n",
    "#Presentation Code\n",
    "def add(num1, num2):\n",
    "    return num1 + num2\n",
    "\n",
    "razz = reduce(add, liszt)\n",
    "\n",
    "print(razz)"
   ]
  },
  {
   "cell_type": "markdown",
   "metadata": {},
   "source": [
    "#### Using Lambda's with Reduce()"
   ]
  },
  {
   "cell_type": "code",
   "execution_count": 59,
   "metadata": {},
   "outputs": [
    {
     "name": "stdout",
     "output_type": "stream",
     "text": [
      "15\n"
     ]
    }
   ],
   "source": [
    "#Presentation Code\n",
    "liszt = [1, 2, 3, 4, 5]\n",
    "\n",
    "result = reduce(lambda x, y: x + y, liszt)\n",
    "\n",
    "print(result)"
   ]
  },
  {
   "cell_type": "markdown",
   "metadata": {},
   "source": [
    "#### In-Class Exercise #4 <br>\n",
    "<p>Use the reduce function to multiply the numbers in the list below together with a lambda function.</p>"
   ]
  },
  {
   "cell_type": "code",
   "execution_count": 61,
   "metadata": {},
   "outputs": [
    {
     "name": "stdout",
     "output_type": "stream",
     "text": [
      "24\n"
     ]
    }
   ],
   "source": [
    "#Presentation Code\n",
    "# output should be 24\n",
    "\n",
    "franz = [1,2,3,4]\n",
    "\n",
    "piano = reduce(lambda x, y: x * y, franz)\n",
    "\n",
    "print(piano)\n",
    "\n",
    "\n",
    "#Presentation Code"
   ]
  },
  {
   "cell_type": "markdown",
   "metadata": {},
   "source": [
    "## Recursion <br>\n",
    "<p>Recursion means that a function is calling itself, so it contanstly executes until a base case is reached. It will then push the returning values back up the chain until the function is complete. A prime example of recursion is computing factorials... such that 5! (factorial) is 5*4*3*2*1 which equals 120.</p>"
   ]
  },
  {
   "cell_type": "markdown",
   "metadata": {},
   "source": [
    "#### Implementing a Base Case"
   ]
  },
  {
   "cell_type": "code",
   "execution_count": 66,
   "metadata": {},
   "outputs": [
    {
     "name": "stdout",
     "output_type": "stream",
     "text": [
      "addMuns(5) = 5 + addMuns(4)\n",
      "addMuns(4) = 4 + addMuns(3)\n",
      "addMuns(3) = 3 + addMuns(2)\n",
      "addMuns(2) = 2 + addMuns(1)\n",
      "addMuns(1) = 1\n"
     ]
    },
    {
     "data": {
      "text/plain": [
       "15"
      ]
     },
     "execution_count": 66,
     "metadata": {},
     "output_type": "execute_result"
    }
   ],
   "source": [
    "# must always have a base case, otherwise it will infinitely loop\n",
    "\n",
    "#Presentation Code\n",
    "def addMuns(num):\n",
    "    #set the base case here so function knows when to stop looping.\n",
    "    if num <= 1:\n",
    "        print(\"addMuns(1) = 1\")\n",
    "        return num\n",
    "    else:\n",
    "        print(\"addMuns({}) = {} + addMuns({})\".format(num, num, num -1))\n",
    "        return num + addMuns(num-1)\n",
    "\n",
    "addMuns(5)\n",
    "    \n",
    "\n",
    "# addNums(3) = 3 + addNums(2) = 3 + 2 + addNums(1) = 3 + 2 + 1 = 6\n",
    "# addNums(2) = 2 + addNums(1) = 2 + 1 = 3\n",
    "# addNums(1) = 1\n",
    "    \n",
    "    \n",
    "#Presentation Code"
   ]
  },
  {
   "cell_type": "markdown",
   "metadata": {},
   "source": [
    "#### Writing a Factorial Function"
   ]
  },
  {
   "cell_type": "code",
   "execution_count": 73,
   "metadata": {},
   "outputs": [
    {
     "data": {
      "text/plain": [
       "120"
      ]
     },
     "execution_count": 73,
     "metadata": {},
     "output_type": "execute_result"
    }
   ],
   "source": [
    "# 5! = 5 * 4 * 3 * 2 * 1 = 120\n",
    "\n",
    "#Presentation Code\n",
    "\n",
    "def factorial(num):\n",
    "    if num <= 1:\n",
    "        return 1\n",
    "    else:\n",
    "        return num * factorial(num-1)\n",
    "    \n",
    "factorial(5)"
   ]
  },
  {
   "cell_type": "markdown",
   "metadata": {},
   "source": [
    "#### In-Class Exercise #5 <br>\n",
    "<p>Write a recursive function that subtracts all numbers to the argument given.</p>"
   ]
  },
  {
   "cell_type": "code",
   "execution_count": 79,
   "metadata": {},
   "outputs": [
    {
     "name": "stdout",
     "output_type": "stream",
     "text": [
      "subNums(5) = 5 - subNums(4)\n",
      "subNums(4) = 4 - subNums(3)\n",
      "subNums(3) = 3 - subNums(2)\n",
      "subNums(2) = 2 - subNums(1)\n",
      "num1(1)\n"
     ]
    },
    {
     "data": {
      "text/plain": [
       "3"
      ]
     },
     "execution_count": 79,
     "metadata": {},
     "output_type": "execute_result"
    }
   ],
   "source": [
    "# result of passing in 3 should equal 2... we're not subtracting 3 - 2 - 1, we're getting the result of 3 - subNums(2)\n",
    "# subNums(2) = 2 - subNums(1) and subNums(1) = 1, so the result is subNums(3) = 3 - 1 which is 2\n",
    "\n",
    "def subNums(num1):\n",
    "    if num1 <= 1:\n",
    "        print(\"num1(1)\")\n",
    "        return 1\n",
    "    else:\n",
    "        print(\"subNums({}) = {} - subNums({})\".format(num1, num1, num1-1))\n",
    "        return num1 - subNums(num1 -1)\n",
    "        \n",
    "subNums(5)\n",
    "\n"
   ]
  },
  {
   "cell_type": "code",
   "execution_count": 82,
   "metadata": {},
   "outputs": [
    {
     "name": "stdout",
     "output_type": "stream",
     "text": [
      "subNums(5) = 5 - subNums(4 -1 )\n",
      "subNums(4) = 4 - subNums(3 -1 )\n",
      "subNums(3) = 3 - subNums(2 -1 )\n",
      "subNums(2) = 2 - subNums(1 -1 )\n",
      "3\n"
     ]
    }
   ],
   "source": [
    "#joel's version\n",
    "def subNums(num):\n",
    "    if num <= 1:\n",
    "        return num\n",
    "    else:\n",
    "        print(\"subNums({}) = {} - subNums({} -1 )\".format(num, num, num-1))\n",
    "        return num - subNums(num - 1)\n",
    "print(subNums(5))"
   ]
  },
  {
   "cell_type": "markdown",
   "metadata": {},
   "source": [
    "## Generators <br>\n",
    "<p>Generators are a type of iterable, like lists or tuples. They do not allow indexing, but they can still be iterated through with for loops. They are created using functions and the yield statement.</p>"
   ]
  },
  {
   "cell_type": "markdown",
   "metadata": {},
   "source": [
    "#### Yield Keyword <br>\n",
    "<p>The yield keyword denotes a generator, it doesn't return so it won't leave the function and reset all variables in the function scope, instead it yields the number back to the caller.</p>"
   ]
  },
  {
   "cell_type": "code",
   "execution_count": 85,
   "metadata": {},
   "outputs": [
    {
     "name": "stdout",
     "output_type": "stream",
     "text": [
      "2\n",
      "3\n",
      "4\n",
      "5\n",
      "6\n",
      "7\n",
      "8\n",
      "9\n"
     ]
    }
   ],
   "source": [
    "# using a for loop\n",
    "#Presentation Code\n",
    "def meerange(stop, start=0, step = 1):\n",
    "        while start < stop:\n",
    "            yield start\n",
    "            start += step\n",
    "            \n",
    "for i in meerange(10, start=2):\n",
    "    print(i)\n",
    "        \n",
    "\n",
    "# for i in my_range(10, start=2):\n",
    "#     print(i)"
   ]
  },
  {
   "cell_type": "markdown",
   "metadata": {},
   "source": [
    "#### Infinite Generator"
   ]
  },
  {
   "cell_type": "code",
   "execution_count": null,
   "metadata": {},
   "outputs": [],
   "source": [
    "# bad, never create infinite loops"
   ]
  },
  {
   "cell_type": "markdown",
   "metadata": {},
   "source": [
    "#### In-Class Exercise #6 <br>\n",
    "<p>Create a generator that takes a number argument and yields that number squared, then prints each number squared until zero is reached.</p>"
   ]
  },
  {
   "cell_type": "code",
   "execution_count": 115,
   "metadata": {},
   "outputs": [
    {
     "name": "stdout",
     "output_type": "stream",
     "text": [
      "0\n",
      "1\n",
      "4\n",
      "9\n",
      "16\n",
      "25\n",
      "36\n",
      "49\n",
      "64\n",
      "81\n"
     ]
    }
   ],
   "source": [
    "# always create a base case\n",
    "#Presentation Code\n",
    "#def meerange(stop, start=0, step = 1):\n",
    "        #while start < stop:\n",
    "            #yield start\n",
    "            #start += step\n",
    "            \n",
    "#for i in meerange(10, start=2):\n",
    "    #print(i)\n",
    "        \n",
    "def squaregen(stop, start=0, step = -1):\n",
    "    while start < stop:\n",
    "        yield start ** 2\n",
    "        start -= step\n",
    "        \n",
    "for i in squaregen(10):\n",
    "    print(i)\n"
   ]
  },
  {
   "cell_type": "code",
   "execution_count": 110,
   "metadata": {},
   "outputs": [
    {
     "name": "stdout",
     "output_type": "stream",
     "text": [
      "100\n",
      "81\n",
      "64\n",
      "49\n",
      "36\n",
      "25\n",
      "16\n",
      "9\n",
      "4\n",
      "1\n"
     ]
    }
   ],
   "source": [
    "#joel's version\n",
    "def squared(num):\n",
    "    while num > 0:\n",
    "        yield num **2\n",
    "        num -= 1\n",
    "for i in squared(10):\n",
    "    print(i)"
   ]
  },
  {
   "cell_type": "markdown",
   "metadata": {},
   "source": [
    "# Exercises"
   ]
  },
  {
   "cell_type": "markdown",
   "metadata": {},
   "source": [
    "### Exercise #1 <br>\n",
    "<p>Filter out all of the empty strings from the list below</p>"
   ]
  },
  {
   "cell_type": "code",
   "execution_count": 156,
   "metadata": {},
   "outputs": [
    {
     "name": "stdout",
     "output_type": "stream",
     "text": [
      "['Argentina', 'San Diego', 'Boston', 'New York']\n"
     ]
    }
   ],
   "source": [
    "places = [\" \", \"Argentina\", \" \",  \"San Diego\", \",\", \"\", \"  \", \"\", \"Boston\", \"New York\"]\n",
    "\n",
    "filtered = list(filter(lambda place: True if len(place) > 3 else False, places))\n",
    "\n",
    "#answer = list(filter(lambda num: True if (num < mean(nums)) else False, nums))\n",
    "\n",
    "print(filtered)"
   ]
  },
  {
   "cell_type": "markdown",
   "metadata": {},
   "source": [
    "### Exercise #2 <br>\n",
    "<p>Write an anonymous function that sorts this list by the last name...<br><b>Hint: Use the \".sort()\" method and access the key\"</b></p>"
   ]
  },
  {
   "cell_type": "code",
   "execution_count": 231,
   "metadata": {},
   "outputs": [
    {
     "name": "stdout",
     "output_type": "stream",
     "text": [
      "\n",
      "\n",
      "\n",
      "\n",
      "\n",
      "['Gary A.J. Bernstein', 'Joel Carter', 'Andrew P. Garfiled', 'Victor aNisimov', 'David hassELHOFF']\n",
      "Gary A.J. Bernstein\n",
      "Joel Carter\n",
      "Andrew P. Garfiled\n",
      "Victor aNisimov\n",
      "David hassELHOFF\n",
      "['Gary A.J. Bernstein', 'Joel Carter', 'Andrew P. Garfiled', 'Victor aNisimov', 'David hassELHOFF']\n"
     ]
    }
   ],
   "source": [
    "author = [\"Joel Carter\", \"Victor aNisimov\", \"Andrew P. Garfiled\", \"David hassELHOFF\", \"Gary A.J. Bernstein\"]\n",
    "\n",
    "#non lambda way\n",
    "blue = \"\"\n",
    "for name in author:\n",
    "    str(name.split( \" \"))\n",
    "    name.title()\n",
    "    blue.join(name)\n",
    "    print(blue)\n",
    "\n",
    "red = list(sorted(author, key=lambda x: x.split(\" \")[-1]))\n",
    "print(red)\n",
    "for name in red:\n",
    "    oro = str(name)\n",
    "    oro.title()\n",
    "    print(oro)\n",
    "print(answer)"
   ]
  },
  {
   "cell_type": "markdown",
   "metadata": {},
   "source": [
    "### Exercise #3 <br>\n",
    "<p>Convert the list below from Celsius to Farhenheit, using the map function with a lambda...</p>"
   ]
  },
  {
   "cell_type": "code",
   "execution_count": 210,
   "metadata": {},
   "outputs": [
    {
     "name": "stdout",
     "output_type": "stream",
     "text": [
      "[89.6, 53.6, 111.2, 84.2]\n"
     ]
    }
   ],
   "source": [
    "# F = (9/5)*C + 32\n",
    "places = [('Nashua',32),(\"Boston\",12),(\"Los Angelos\",44),(\"Miami\",29)]\n",
    "\n",
    "conversion = list(map(lambda x: (9/5)*x + 32, (x[1] for x in places)))\n",
    "\n",
    "print(conversion)\n"
   ]
  },
  {
   "cell_type": "markdown",
   "metadata": {},
   "source": [
    "### Exercise #4 <br>\n",
    "<p>Write a recursion function to perform the fibonacci sequence up to the number passed in.</p>"
   ]
  },
  {
   "cell_type": "code",
   "execution_count": 242,
   "metadata": {
    "scrolled": true
   },
   "outputs": [
    {
     "name": "stdout",
     "output_type": "stream",
     "text": [
      "subNums(5) = 5 - subNums(4 -1 )\n",
      "subNums(4) = 4 - subNums(3 -1 )\n",
      "subNums(3) = 3 - subNums(2 -1 )\n",
      "subNums(2) = 2 - subNums(1 -1 )\n",
      "3\n"
     ]
    },
    {
     "ename": "RecursionError",
     "evalue": "maximum recursion depth exceeded",
     "output_type": "error",
     "traceback": [
      "\u001b[1;31m---------------------------------------------------------------------------\u001b[0m",
      "\u001b[1;31mRecursionError\u001b[0m                            Traceback (most recent call last)",
      "\u001b[1;32m<ipython-input-242-f697f5f4b6de>\u001b[0m in \u001b[0;36m<module>\u001b[1;34m\u001b[0m\n\u001b[0;32m     14\u001b[0m         \u001b[1;32mreturn\u001b[0m \u001b[0mFibby\u001b[0m\u001b[1;33m(\u001b[0m\u001b[0mnum\u001b[0m\u001b[1;33m)\u001b[0m \u001b[1;33m+\u001b[0m \u001b[0mFibby\u001b[0m\u001b[1;33m(\u001b[0m\u001b[0mnum\u001b[0m\u001b[1;33m[\u001b[0m\u001b[1;33m-\u001b[0m\u001b[1;36m1\u001b[0m\u001b[1;33m]\u001b[0m\u001b[1;33m)\u001b[0m \u001b[1;33m+\u001b[0m \u001b[0mFibby\u001b[0m\u001b[1;33m(\u001b[0m\u001b[0mnum\u001b[0m\u001b[1;33m[\u001b[0m\u001b[1;33m-\u001b[0m\u001b[1;36m2\u001b[0m\u001b[1;33m]\u001b[0m\u001b[1;33m)\u001b[0m\u001b[1;33m\u001b[0m\u001b[1;33m\u001b[0m\u001b[0m\n\u001b[0;32m     15\u001b[0m \u001b[1;33m\u001b[0m\u001b[0m\n\u001b[1;32m---> 16\u001b[1;33m \u001b[0mprint\u001b[0m\u001b[1;33m(\u001b[0m\u001b[0mFibby\u001b[0m\u001b[1;33m(\u001b[0m\u001b[1;36m5\u001b[0m\u001b[1;33m)\u001b[0m\u001b[1;33m)\u001b[0m\u001b[1;33m\u001b[0m\u001b[1;33m\u001b[0m\u001b[0m\n\u001b[0m",
      "\u001b[1;32m<ipython-input-242-f697f5f4b6de>\u001b[0m in \u001b[0;36mFibby\u001b[1;34m(num)\u001b[0m\n\u001b[0;32m      8\u001b[0m \u001b[1;33m\u001b[0m\u001b[0m\n\u001b[0;32m      9\u001b[0m \u001b[1;32mdef\u001b[0m \u001b[0mFibby\u001b[0m\u001b[1;33m(\u001b[0m\u001b[0mnum\u001b[0m\u001b[1;33m)\u001b[0m\u001b[1;33m:\u001b[0m\u001b[1;33m\u001b[0m\u001b[1;33m\u001b[0m\u001b[0m\n\u001b[1;32m---> 10\u001b[1;33m     \u001b[1;32mif\u001b[0m \u001b[0mnum\u001b[0m \u001b[1;33m<=\u001b[0m \u001b[0mFibby\u001b[0m\u001b[1;33m(\u001b[0m\u001b[0mnum\u001b[0m\u001b[1;33m)\u001b[0m\u001b[1;33m:\u001b[0m\u001b[1;33m\u001b[0m\u001b[1;33m\u001b[0m\u001b[0m\n\u001b[0m\u001b[0;32m     11\u001b[0m         \u001b[0mprint\u001b[0m\u001b[1;33m(\u001b[0m\u001b[1;34m\"you're finished\"\u001b[0m\u001b[1;33m)\u001b[0m\u001b[1;33m\u001b[0m\u001b[1;33m\u001b[0m\u001b[0m\n\u001b[0;32m     12\u001b[0m         \u001b[1;32mreturn\u001b[0m \u001b[0mnum\u001b[0m\u001b[1;33m\u001b[0m\u001b[1;33m\u001b[0m\u001b[0m\n",
      "... last 1 frames repeated, from the frame below ...\n",
      "\u001b[1;32m<ipython-input-242-f697f5f4b6de>\u001b[0m in \u001b[0;36mFibby\u001b[1;34m(num)\u001b[0m\n\u001b[0;32m      8\u001b[0m \u001b[1;33m\u001b[0m\u001b[0m\n\u001b[0;32m      9\u001b[0m \u001b[1;32mdef\u001b[0m \u001b[0mFibby\u001b[0m\u001b[1;33m(\u001b[0m\u001b[0mnum\u001b[0m\u001b[1;33m)\u001b[0m\u001b[1;33m:\u001b[0m\u001b[1;33m\u001b[0m\u001b[1;33m\u001b[0m\u001b[0m\n\u001b[1;32m---> 10\u001b[1;33m     \u001b[1;32mif\u001b[0m \u001b[0mnum\u001b[0m \u001b[1;33m<=\u001b[0m \u001b[0mFibby\u001b[0m\u001b[1;33m(\u001b[0m\u001b[0mnum\u001b[0m\u001b[1;33m)\u001b[0m\u001b[1;33m:\u001b[0m\u001b[1;33m\u001b[0m\u001b[1;33m\u001b[0m\u001b[0m\n\u001b[0m\u001b[0;32m     11\u001b[0m         \u001b[0mprint\u001b[0m\u001b[1;33m(\u001b[0m\u001b[1;34m\"you're finished\"\u001b[0m\u001b[1;33m)\u001b[0m\u001b[1;33m\u001b[0m\u001b[1;33m\u001b[0m\u001b[0m\n\u001b[0;32m     12\u001b[0m         \u001b[1;32mreturn\u001b[0m \u001b[0mnum\u001b[0m\u001b[1;33m\u001b[0m\u001b[1;33m\u001b[0m\u001b[0m\n",
      "\u001b[1;31mRecursionError\u001b[0m: maximum recursion depth exceeded"
     ]
    }
   ],
   "source": [
    "#what I tried and created an infinite loop with.\n",
    "\n",
    "def Fibby(num):\n",
    "    if num <= Fibby(num):\n",
    "        print(\"you're finished\")\n",
    "        return num\n",
    "    else:\n",
    "        return Fibby(num) + Fibby(num[-1]) + Fibby(num[-2])\n",
    "    \n",
    "print(Fibby(5))"
   ]
  },
  {
   "cell_type": "code",
   "execution_count": 254,
   "metadata": {},
   "outputs": [
    {
     "name": "stdout",
     "output_type": "stream",
     "text": [
      "21\n"
     ]
    }
   ],
   "source": [
    "def Fibby(num):\n",
    "    if num <= 1:\n",
    "        return num\n",
    "    else:\n",
    "        return(Fibby(num-1) + Fibby(num-2))\n",
    "    \n",
    "print(Fibby(8))"
   ]
  }
 ],
 "metadata": {
  "kernelspec": {
   "display_name": "Python 3",
   "language": "python",
   "name": "python3"
  },
  "language_info": {
   "codemirror_mode": {
    "name": "ipython",
    "version": 3
   },
   "file_extension": ".py",
   "mimetype": "text/x-python",
   "name": "python",
   "nbconvert_exporter": "python",
   "pygments_lexer": "ipython3",
   "version": "3.7.3"
  }
 },
 "nbformat": 4,
 "nbformat_minor": 2
}
